{
  "nbformat": 4,
  "nbformat_minor": 0,
  "metadata": {
    "colab": {
      "name": "JSON based Inventory Management System.ipynb",
      "provenance": []
    },
    "kernelspec": {
      "name": "python3",
      "display_name": "Python 3"
    },
    "language_info": {
      "name": "python"
    }
  },
  "cells": [
    {
      "cell_type": "markdown",
      "metadata": {
        "id": "EUDH7SNdADHe"
      },
      "source": [
        "\n",
        "\n",
        "> **Necessary Data**\n"
      ]
    },
    {
      "cell_type": "code",
      "metadata": {
        "id": "DoiZCopaAR4W"
      },
      "source": [
        "record = {\n",
        "    1 : { \"item\": \"Soap\", \"price\": 30, \"date\": \"03-08-2021\", \"inStock\": True, \"offer\": 10 },\n",
        "    2 : { \"item\": \"Maida\", \"price\": 90, \"date\": \"06-07-2021\",\"inStock\": True , \"offer\": 0 },\n",
        "    3 : { \"item\": \"Bread\", \"price\": 15, \"date\": \"01-09-2021\", \"inStock\": True, \"offer\": 20 },\n",
        "    4 : { \"item\": \"Milk\", \"price\" :30, \"date\": \"03-09-2021\", \"inStock\": False, \"offer\": 18 },\n",
        "    5 : { \"item\": \"Kitkat\", \"price\": 25, \"date\": \"29-08-2021\", \"inStock\": True, \"offer\": 15 },\n",
        "    6 : { \"item\": \"Maggi\", \"price\": 12, \"date\": \"20-08-2021\", \"inStock\": True, \"offer\": 0 },\n",
        "    7 : { \"item\": \"Butter\", \"price\": 50, \"date\": \"31-08-2021\", \"inStock\": True, \"offer\": 10 },\n",
        "    8 : { \"item\": \"Deodrant\", \"price\": 250, \"date\": \"15-08-2021\", \"inStock\": True, \"offer\": 18 },\n",
        "    9 : { \"item\": \"Harpic\", \"price\": 99, \"date\": \"05-08-2021\", \"inStock\": True, \"offer\": 33 },\n",
        "    10 : { \"item\": \"Papads\", \"price\": 20, \"date\": \"24-08-2021\", \"inStock\": True, \"offer\": 0 },\n",
        "    11 : { \"item\": \"Eggs\", \"price\": 60, \"date\": \"30-08-2021\", \"inStock\": True, \"offer\": 0 },\n",
        "    12 : { \"item\": \"Pizza\", \"price\": 180, \"date\": \"02-09-2021\", \"inStock\": True, \"offer\": 20 },\n",
        "    13 : { \"item\": \"Wet wipes\", \"price\": 185, \"date\": \"20-08-2021\", \"inStock\": False, \"offer\": 20 },\n",
        "    14 : { \"item\": \"Pepper\", \"price\": 80, \"date\": \"31-08-2021\", \"inStock\": True, \"offer\": 0 },\n",
        "    15 : { \"item\": \"Cookies\", \"price\": 30, \"date\": \"17-08-2021\", \"inStock\": True, \"offer\": 5 },\n",
        "    16 : { \"item\": \"Shampoo\", \"price\": 58, \"date\": \"07-08-2021\", \"inStock\": True, \"offer\": 15 },\n",
        "    17 : { \"item\": \"Tooth Paste\", \"price\": 55, \"date\": \"05-06-2021\", \"inStock\": True, \"offer\": 23 },\n",
        "    18 : { \"item\": \"Bowls Set\", \"price\": 600, \"date\": \"24-05-2021\", \"inStock\": True, \"offer\": 30 },\n",
        "    19 : { \"item\": \"Face cream\", \"price\": 320, \"date\": \"06-08-2021\", \"inStock\": True, \"offer\": 15 },\n",
        "    20 : { \"item\": \"Pedigree\", \"price\": 680, \"date\": \"08-04-2021\", \"inStock\": False, \"offer\": 35 },\n",
        "    21 : { \"item\": \"Cheese\", \"price\": 60, \"date\": \"01-09-2021\", \"inStock\": True, \"offer\": 0 },\n",
        "    22 : { \"item\": \"Cakes\", \"price\": 550, \"date\": \"29-08-2021\", \"inStock\": True, \"offer\": 20 },\n",
        "    23 : { \"item\": \"Lays\", \"price\": 20, \"date\": \"27-08-2021\", \"inStock\": True, \"offer\": 0 },\n",
        "    24 : { \"item\": \"Coffee Powder\", \"price\": 56, \"date\": \"24-07-2021\", \"inStock\": True, \"offer\": 18 },\n",
        "    25 : { \"item\": \"Razor\", \"price\": 30, \"date\": \"24-02-2021\", \"inStock\": True, \"offer\": 0 },\n",
        "    26 : { \"item\": \"Nuttela\", \"price\": 100, \"date\": \"25-08-2021\", \"inStock\": True, \"offer\": 0 },\n",
        "    27 : { \"item\": \"Mop\", \"price\": 360, \"date\": \"24-07-2021\", \"inStock\": True, \"offer\": 0 },\n",
        "    28 : { \"item\": \"Detergent\", \"price\": 89, \"date\": \"20-08-2021\", \"inStock\": True, \"offer\": 13 },\n",
        "    29 : { \"item\": \"Chop Stcikes\", \"price\": 49, \"date\": \"30-07-2021\", \"inStock\": True, \"offer\": 15 },\n",
        "    30 : { \"item\": \"Pressure Cooker\", \"price\": 1200, \"date\": \"24-02-2021\", \"inStock\": True, \"offer\": 20 }\n",
        "}"
      ],
      "execution_count": 18,
      "outputs": []
    },
    {
      "cell_type": "code",
      "metadata": {
        "colab": {
          "base_uri": "https://localhost:8080/"
        },
        "id": "AAMRzaeEBoEX",
        "outputId": "cf8754da-9474-434f-b766-24e096595f95"
      },
      "source": [
        "# print(\"Unique ID\\t\", \"Item Name\\t\" ,\"Price\\t\", \"Manufacture Date\\t\", \"Available in stock\\t\", \"Offer\\t\")\n",
        "for i in record:\n",
        "  # print(i, \"\\t\\t\", record[i][\"item\"], \"\\t\\t\", record[i][\"price\"], \"\\t\\t\", record[i][\"date\"], \"\\t\\t\", record[i][\"inStock\"], \"\\t\\t\", record[i][\"offer\"])\n",
        "  print(i,\" = \",record[i])"
      ],
      "execution_count": 19,
      "outputs": [
        {
          "output_type": "stream",
          "name": "stdout",
          "text": [
            "1  =  {'item': 'Soap', 'price': 30, 'date': '03-08-2021', 'inStock': True, 'offer': 10}\n",
            "2  =  {'item': 'Maida', 'price': 90, 'date': '06-07-2021', 'inStock': True, 'offer': 0}\n",
            "3  =  {'item': 'Bread', 'price': 15, 'date': '01-09-2021', 'inStock': True, 'offer': 20}\n",
            "4  =  {'item': 'Milk', 'price': 30, 'date': '03-09-2021', 'inStock': False, 'offer': 18}\n",
            "5  =  {'item': 'Kitkat', 'price': 25, 'date': '29-08-2021', 'inStock': True, 'offer': 15}\n",
            "6  =  {'item': 'Maggi', 'price': 12, 'date': '20-08-2021', 'inStock': True, 'offer': 0}\n",
            "7  =  {'item': 'Butter', 'price': 50, 'date': '31-08-2021', 'inStock': True, 'offer': 10}\n",
            "8  =  {'item': 'Deodrant', 'price': 250, 'date': '15-08-2021', 'inStock': True, 'offer': 18}\n",
            "9  =  {'item': 'Harpic', 'price': 99, 'date': '05-08-2021', 'inStock': True, 'offer': 33}\n",
            "10  =  {'item': 'Papads', 'price': 20, 'date': '24-08-2021', 'inStock': True, 'offer': 0}\n",
            "11  =  {'item': 'Eggs', 'price': 60, 'date': '30-08-2021', 'inStock': True, 'offer': 0}\n",
            "12  =  {'item': 'Pizza', 'price': 180, 'date': '02-09-2021', 'inStock': True, 'offer': 20}\n",
            "13  =  {'item': 'Wet wipes', 'price': 185, 'date': '20-08-2021', 'inStock': False, 'offer': 20}\n",
            "14  =  {'item': 'Pepper', 'price': 80, 'date': '31-08-2021', 'inStock': True, 'offer': 0}\n",
            "15  =  {'item': 'Cookies', 'price': 30, 'date': '17-08-2021', 'inStock': True, 'offer': 5}\n",
            "16  =  {'item': 'Shampoo', 'price': 58, 'date': '07-08-2021', 'inStock': True, 'offer': 15}\n",
            "17  =  {'item': 'Tooth Paste', 'price': 55, 'date': '05-06-2021', 'inStock': True, 'offer': 23}\n",
            "18  =  {'item': 'Bowls Set', 'price': 600, 'date': '24-05-2021', 'inStock': True, 'offer': 30}\n",
            "19  =  {'item': 'Face cream', 'price': 320, 'date': '06-08-2021', 'inStock': True, 'offer': 15}\n",
            "20  =  {'item': 'Pedigree', 'price': 680, 'date': '08-04-2021', 'inStock': False, 'offer': 35}\n",
            "21  =  {'item': 'Cheese', 'price': 60, 'date': '01-09-2021', 'inStock': True, 'offer': 0}\n",
            "22  =  {'item': 'Cakes', 'price': 550, 'date': '29-08-2021', 'inStock': True, 'offer': 20}\n",
            "23  =  {'item': 'Lays', 'price': 20, 'date': '27-08-2021', 'inStock': True, 'offer': 0}\n",
            "24  =  {'item': 'Coffee Powder', 'price': 56, 'date': '24-07-2021', 'inStock': True, 'offer': 18}\n",
            "25  =  {'item': 'Razor', 'price': 30, 'date': '24-02-2021', 'inStock': True, 'offer': 0}\n",
            "26  =  {'item': 'Nuttela', 'price': 100, 'date': '25-08-2021', 'inStock': True, 'offer': 0}\n",
            "27  =  {'item': 'Mop', 'price': 360, 'date': '24-07-2021', 'inStock': True, 'offer': 0}\n",
            "28  =  {'item': 'Detergent', 'price': 89, 'date': '20-08-2021', 'inStock': True, 'offer': 13}\n",
            "29  =  {'item': 'Chop Stcikes', 'price': 49, 'date': '30-07-2021', 'inStock': True, 'offer': 15}\n",
            "30  =  {'item': 'Pressure Cooker', 'price': 1200, 'date': '24-02-2021', 'inStock': True, 'offer': 20}\n"
          ]
        }
      ]
    },
    {
      "cell_type": "code",
      "metadata": {
        "id": "Q04TGnmyCAYu"
      },
      "source": [
        "import json"
      ],
      "execution_count": 20,
      "outputs": []
    },
    {
      "cell_type": "code",
      "metadata": {
        "id": "_-pDYQzpFOpP"
      },
      "source": [
        "js = json.dumps(record)"
      ],
      "execution_count": 21,
      "outputs": []
    },
    {
      "cell_type": "code",
      "metadata": {
        "colab": {
          "base_uri": "https://localhost:8080/",
          "height": 221
        },
        "id": "f8nBFrvUFv64",
        "outputId": "caa0d06a-1b80-4601-ce12-5f11ecd2640d"
      },
      "source": [
        "js"
      ],
      "execution_count": 22,
      "outputs": [
        {
          "output_type": "execute_result",
          "data": {
            "application/vnd.google.colaboratory.intrinsic+json": {
              "type": "string"
            },
            "text/plain": [
              "'{\"1\": {\"item\": \"Soap\", \"price\": 30, \"date\": \"03-08-2021\", \"inStock\": true, \"offer\": 10}, \"2\": {\"item\": \"Maida\", \"price\": 90, \"date\": \"06-07-2021\", \"inStock\": true, \"offer\": 0}, \"3\": {\"item\": \"Bread\", \"price\": 15, \"date\": \"01-09-2021\", \"inStock\": true, \"offer\": 20}, \"4\": {\"item\": \"Milk\", \"price\": 30, \"date\": \"03-09-2021\", \"inStock\": false, \"offer\": 18}, \"5\": {\"item\": \"Kitkat\", \"price\": 25, \"date\": \"29-08-2021\", \"inStock\": true, \"offer\": 15}, \"6\": {\"item\": \"Maggi\", \"price\": 12, \"date\": \"20-08-2021\", \"inStock\": true, \"offer\": 0}, \"7\": {\"item\": \"Butter\", \"price\": 50, \"date\": \"31-08-2021\", \"inStock\": true, \"offer\": 10}, \"8\": {\"item\": \"Deodrant\", \"price\": 250, \"date\": \"15-08-2021\", \"inStock\": true, \"offer\": 18}, \"9\": {\"item\": \"Harpic\", \"price\": 99, \"date\": \"05-08-2021\", \"inStock\": true, \"offer\": 33}, \"10\": {\"item\": \"Papads\", \"price\": 20, \"date\": \"24-08-2021\", \"inStock\": true, \"offer\": 0}, \"11\": {\"item\": \"Eggs\", \"price\": 60, \"date\": \"30-08-2021\", \"inStock\": true, \"offer\": 0}, \"12\": {\"item\": \"Pizza\", \"price\": 180, \"date\": \"02-09-2021\", \"inStock\": true, \"offer\": 20}, \"13\": {\"item\": \"Wet wipes\", \"price\": 185, \"date\": \"20-08-2021\", \"inStock\": false, \"offer\": 20}, \"14\": {\"item\": \"Pepper\", \"price\": 80, \"date\": \"31-08-2021\", \"inStock\": true, \"offer\": 0}, \"15\": {\"item\": \"Cookies\", \"price\": 30, \"date\": \"17-08-2021\", \"inStock\": true, \"offer\": 5}, \"16\": {\"item\": \"Shampoo\", \"price\": 58, \"date\": \"07-08-2021\", \"inStock\": true, \"offer\": 15}, \"17\": {\"item\": \"Tooth Paste\", \"price\": 55, \"date\": \"05-06-2021\", \"inStock\": true, \"offer\": 23}, \"18\": {\"item\": \"Bowls Set\", \"price\": 600, \"date\": \"24-05-2021\", \"inStock\": true, \"offer\": 30}, \"19\": {\"item\": \"Face cream\", \"price\": 320, \"date\": \"06-08-2021\", \"inStock\": true, \"offer\": 15}, \"20\": {\"item\": \"Pedigree\", \"price\": 680, \"date\": \"08-04-2021\", \"inStock\": false, \"offer\": 35}, \"21\": {\"item\": \"Cheese\", \"price\": 60, \"date\": \"01-09-2021\", \"inStock\": true, \"offer\": 0}, \"22\": {\"item\": \"Cakes\", \"price\": 550, \"date\": \"29-08-2021\", \"inStock\": true, \"offer\": 20}, \"23\": {\"item\": \"Lays\", \"price\": 20, \"date\": \"27-08-2021\", \"inStock\": true, \"offer\": 0}, \"24\": {\"item\": \"Coffee Powder\", \"price\": 56, \"date\": \"24-07-2021\", \"inStock\": true, \"offer\": 18}, \"25\": {\"item\": \"Razor\", \"price\": 30, \"date\": \"24-02-2021\", \"inStock\": true, \"offer\": 0}, \"26\": {\"item\": \"Nuttela\", \"price\": 100, \"date\": \"25-08-2021\", \"inStock\": true, \"offer\": 0}, \"27\": {\"item\": \"Mop\", \"price\": 360, \"date\": \"24-07-2021\", \"inStock\": true, \"offer\": 0}, \"28\": {\"item\": \"Detergent\", \"price\": 89, \"date\": \"20-08-2021\", \"inStock\": true, \"offer\": 13}, \"29\": {\"item\": \"Chop Stcikes\", \"price\": 49, \"date\": \"30-07-2021\", \"inStock\": true, \"offer\": 15}, \"30\": {\"item\": \"Pressure Cooker\", \"price\": 1200, \"date\": \"24-02-2021\", \"inStock\": true, \"offer\": 20}}'"
            ]
          },
          "metadata": {},
          "execution_count": 22
        }
      ]
    },
    {
      "cell_type": "code",
      "metadata": {
        "id": "wBdDoToVIYzn"
      },
      "source": [
        "daily_count = 0\n",
        "fd = open(\"record.json\",\"w\")\n",
        "fd.write(js)\n",
        "fd.close()"
      ],
      "execution_count": 23,
      "outputs": []
    },
    {
      "cell_type": "code",
      "metadata": {
        "id": "nEL_hShcNJq3"
      },
      "source": [
        "fd = open(\"record.json\",\"r\")\n",
        "txt = fd.read()\n",
        "fd.close()"
      ],
      "execution_count": 24,
      "outputs": []
    },
    {
      "cell_type": "code",
      "metadata": {
        "colab": {
          "base_uri": "https://localhost:8080/",
          "height": 221
        },
        "id": "a0e1BPnmNXTz",
        "outputId": "f99882b6-b409-4580-e922-289e59e19c42"
      },
      "source": [
        "txt"
      ],
      "execution_count": 25,
      "outputs": [
        {
          "output_type": "execute_result",
          "data": {
            "application/vnd.google.colaboratory.intrinsic+json": {
              "type": "string"
            },
            "text/plain": [
              "'{\"1\": {\"item\": \"Soap\", \"price\": 30, \"date\": \"03-08-2021\", \"inStock\": true, \"offer\": 10}, \"2\": {\"item\": \"Maida\", \"price\": 90, \"date\": \"06-07-2021\", \"inStock\": true, \"offer\": 0}, \"3\": {\"item\": \"Bread\", \"price\": 15, \"date\": \"01-09-2021\", \"inStock\": true, \"offer\": 20}, \"4\": {\"item\": \"Milk\", \"price\": 30, \"date\": \"03-09-2021\", \"inStock\": false, \"offer\": 18}, \"5\": {\"item\": \"Kitkat\", \"price\": 25, \"date\": \"29-08-2021\", \"inStock\": true, \"offer\": 15}, \"6\": {\"item\": \"Maggi\", \"price\": 12, \"date\": \"20-08-2021\", \"inStock\": true, \"offer\": 0}, \"7\": {\"item\": \"Butter\", \"price\": 50, \"date\": \"31-08-2021\", \"inStock\": true, \"offer\": 10}, \"8\": {\"item\": \"Deodrant\", \"price\": 250, \"date\": \"15-08-2021\", \"inStock\": true, \"offer\": 18}, \"9\": {\"item\": \"Harpic\", \"price\": 99, \"date\": \"05-08-2021\", \"inStock\": true, \"offer\": 33}, \"10\": {\"item\": \"Papads\", \"price\": 20, \"date\": \"24-08-2021\", \"inStock\": true, \"offer\": 0}, \"11\": {\"item\": \"Eggs\", \"price\": 60, \"date\": \"30-08-2021\", \"inStock\": true, \"offer\": 0}, \"12\": {\"item\": \"Pizza\", \"price\": 180, \"date\": \"02-09-2021\", \"inStock\": true, \"offer\": 20}, \"13\": {\"item\": \"Wet wipes\", \"price\": 185, \"date\": \"20-08-2021\", \"inStock\": false, \"offer\": 20}, \"14\": {\"item\": \"Pepper\", \"price\": 80, \"date\": \"31-08-2021\", \"inStock\": true, \"offer\": 0}, \"15\": {\"item\": \"Cookies\", \"price\": 30, \"date\": \"17-08-2021\", \"inStock\": true, \"offer\": 5}, \"16\": {\"item\": \"Shampoo\", \"price\": 58, \"date\": \"07-08-2021\", \"inStock\": true, \"offer\": 15}, \"17\": {\"item\": \"Tooth Paste\", \"price\": 55, \"date\": \"05-06-2021\", \"inStock\": true, \"offer\": 23}, \"18\": {\"item\": \"Bowls Set\", \"price\": 600, \"date\": \"24-05-2021\", \"inStock\": true, \"offer\": 30}, \"19\": {\"item\": \"Face cream\", \"price\": 320, \"date\": \"06-08-2021\", \"inStock\": true, \"offer\": 15}, \"20\": {\"item\": \"Pedigree\", \"price\": 680, \"date\": \"08-04-2021\", \"inStock\": false, \"offer\": 35}, \"21\": {\"item\": \"Cheese\", \"price\": 60, \"date\": \"01-09-2021\", \"inStock\": true, \"offer\": 0}, \"22\": {\"item\": \"Cakes\", \"price\": 550, \"date\": \"29-08-2021\", \"inStock\": true, \"offer\": 20}, \"23\": {\"item\": \"Lays\", \"price\": 20, \"date\": \"27-08-2021\", \"inStock\": true, \"offer\": 0}, \"24\": {\"item\": \"Coffee Powder\", \"price\": 56, \"date\": \"24-07-2021\", \"inStock\": true, \"offer\": 18}, \"25\": {\"item\": \"Razor\", \"price\": 30, \"date\": \"24-02-2021\", \"inStock\": true, \"offer\": 0}, \"26\": {\"item\": \"Nuttela\", \"price\": 100, \"date\": \"25-08-2021\", \"inStock\": true, \"offer\": 0}, \"27\": {\"item\": \"Mop\", \"price\": 360, \"date\": \"24-07-2021\", \"inStock\": true, \"offer\": 0}, \"28\": {\"item\": \"Detergent\", \"price\": 89, \"date\": \"20-08-2021\", \"inStock\": true, \"offer\": 13}, \"29\": {\"item\": \"Chop Stcikes\", \"price\": 49, \"date\": \"30-07-2021\", \"inStock\": true, \"offer\": 15}, \"30\": {\"item\": \"Pressure Cooker\", \"price\": 1200, \"date\": \"24-02-2021\", \"inStock\": true, \"offer\": 20}}'"
            ]
          },
          "metadata": {},
          "execution_count": 25
        }
      ]
    },
    {
      "cell_type": "markdown",
      "metadata": {
        "id": "TLQF9KwfOM-0"
      },
      "source": [
        "**JSON to Dictionary**\n"
      ]
    },
    {
      "cell_type": "code",
      "metadata": {
        "id": "htJ5Ux1wNYhV"
      },
      "source": [
        "js_to_dict = json.loads(txt)"
      ],
      "execution_count": 26,
      "outputs": []
    },
    {
      "cell_type": "code",
      "metadata": {
        "colab": {
          "base_uri": "https://localhost:8080/"
        },
        "id": "iGWwefnjN7p7",
        "outputId": "154e108c-3b70-48d5-dd48-3823444ddbf9"
      },
      "source": [
        "js_to_dict"
      ],
      "execution_count": 27,
      "outputs": [
        {
          "output_type": "execute_result",
          "data": {
            "text/plain": [
              "{'1': {'date': '03-08-2021',\n",
              "  'inStock': True,\n",
              "  'item': 'Soap',\n",
              "  'offer': 10,\n",
              "  'price': 30},\n",
              " '10': {'date': '24-08-2021',\n",
              "  'inStock': True,\n",
              "  'item': 'Papads',\n",
              "  'offer': 0,\n",
              "  'price': 20},\n",
              " '11': {'date': '30-08-2021',\n",
              "  'inStock': True,\n",
              "  'item': 'Eggs',\n",
              "  'offer': 0,\n",
              "  'price': 60},\n",
              " '12': {'date': '02-09-2021',\n",
              "  'inStock': True,\n",
              "  'item': 'Pizza',\n",
              "  'offer': 20,\n",
              "  'price': 180},\n",
              " '13': {'date': '20-08-2021',\n",
              "  'inStock': False,\n",
              "  'item': 'Wet wipes',\n",
              "  'offer': 20,\n",
              "  'price': 185},\n",
              " '14': {'date': '31-08-2021',\n",
              "  'inStock': True,\n",
              "  'item': 'Pepper',\n",
              "  'offer': 0,\n",
              "  'price': 80},\n",
              " '15': {'date': '17-08-2021',\n",
              "  'inStock': True,\n",
              "  'item': 'Cookies',\n",
              "  'offer': 5,\n",
              "  'price': 30},\n",
              " '16': {'date': '07-08-2021',\n",
              "  'inStock': True,\n",
              "  'item': 'Shampoo',\n",
              "  'offer': 15,\n",
              "  'price': 58},\n",
              " '17': {'date': '05-06-2021',\n",
              "  'inStock': True,\n",
              "  'item': 'Tooth Paste',\n",
              "  'offer': 23,\n",
              "  'price': 55},\n",
              " '18': {'date': '24-05-2021',\n",
              "  'inStock': True,\n",
              "  'item': 'Bowls Set',\n",
              "  'offer': 30,\n",
              "  'price': 600},\n",
              " '19': {'date': '06-08-2021',\n",
              "  'inStock': True,\n",
              "  'item': 'Face cream',\n",
              "  'offer': 15,\n",
              "  'price': 320},\n",
              " '2': {'date': '06-07-2021',\n",
              "  'inStock': True,\n",
              "  'item': 'Maida',\n",
              "  'offer': 0,\n",
              "  'price': 90},\n",
              " '20': {'date': '08-04-2021',\n",
              "  'inStock': False,\n",
              "  'item': 'Pedigree',\n",
              "  'offer': 35,\n",
              "  'price': 680},\n",
              " '21': {'date': '01-09-2021',\n",
              "  'inStock': True,\n",
              "  'item': 'Cheese',\n",
              "  'offer': 0,\n",
              "  'price': 60},\n",
              " '22': {'date': '29-08-2021',\n",
              "  'inStock': True,\n",
              "  'item': 'Cakes',\n",
              "  'offer': 20,\n",
              "  'price': 550},\n",
              " '23': {'date': '27-08-2021',\n",
              "  'inStock': True,\n",
              "  'item': 'Lays',\n",
              "  'offer': 0,\n",
              "  'price': 20},\n",
              " '24': {'date': '24-07-2021',\n",
              "  'inStock': True,\n",
              "  'item': 'Coffee Powder',\n",
              "  'offer': 18,\n",
              "  'price': 56},\n",
              " '25': {'date': '24-02-2021',\n",
              "  'inStock': True,\n",
              "  'item': 'Razor',\n",
              "  'offer': 0,\n",
              "  'price': 30},\n",
              " '26': {'date': '25-08-2021',\n",
              "  'inStock': True,\n",
              "  'item': 'Nuttela',\n",
              "  'offer': 0,\n",
              "  'price': 100},\n",
              " '27': {'date': '24-07-2021',\n",
              "  'inStock': True,\n",
              "  'item': 'Mop',\n",
              "  'offer': 0,\n",
              "  'price': 360},\n",
              " '28': {'date': '20-08-2021',\n",
              "  'inStock': True,\n",
              "  'item': 'Detergent',\n",
              "  'offer': 13,\n",
              "  'price': 89},\n",
              " '29': {'date': '30-07-2021',\n",
              "  'inStock': True,\n",
              "  'item': 'Chop Stcikes',\n",
              "  'offer': 15,\n",
              "  'price': 49},\n",
              " '3': {'date': '01-09-2021',\n",
              "  'inStock': True,\n",
              "  'item': 'Bread',\n",
              "  'offer': 20,\n",
              "  'price': 15},\n",
              " '30': {'date': '24-02-2021',\n",
              "  'inStock': True,\n",
              "  'item': 'Pressure Cooker',\n",
              "  'offer': 20,\n",
              "  'price': 1200},\n",
              " '4': {'date': '03-09-2021',\n",
              "  'inStock': False,\n",
              "  'item': 'Milk',\n",
              "  'offer': 18,\n",
              "  'price': 30},\n",
              " '5': {'date': '29-08-2021',\n",
              "  'inStock': True,\n",
              "  'item': 'Kitkat',\n",
              "  'offer': 15,\n",
              "  'price': 25},\n",
              " '6': {'date': '20-08-2021',\n",
              "  'inStock': True,\n",
              "  'item': 'Maggi',\n",
              "  'offer': 0,\n",
              "  'price': 12},\n",
              " '7': {'date': '31-08-2021',\n",
              "  'inStock': True,\n",
              "  'item': 'Butter',\n",
              "  'offer': 10,\n",
              "  'price': 50},\n",
              " '8': {'date': '15-08-2021',\n",
              "  'inStock': True,\n",
              "  'item': 'Deodrant',\n",
              "  'offer': 18,\n",
              "  'price': 250},\n",
              " '9': {'date': '05-08-2021',\n",
              "  'inStock': True,\n",
              "  'item': 'Harpic',\n",
              "  'offer': 33,\n",
              "  'price': 99}}"
            ]
          },
          "metadata": {},
          "execution_count": 27
        }
      ]
    },
    {
      "cell_type": "code",
      "metadata": {
        "colab": {
          "base_uri": "https://localhost:8080/"
        },
        "id": "UOKfCxp2N8_n",
        "outputId": "7444a691-f20e-4e7d-8600-52e1f450774f"
      },
      "source": [
        "type(js_to_dict)"
      ],
      "execution_count": 28,
      "outputs": [
        {
          "output_type": "execute_result",
          "data": {
            "text/plain": [
              "dict"
            ]
          },
          "metadata": {},
          "execution_count": 28
        }
      ]
    },
    {
      "cell_type": "markdown",
      "metadata": {
        "id": "WuJpPuFPOsh8"
      },
      "source": [
        "**Inventory Management System**"
      ]
    },
    {
      "cell_type": "code",
      "metadata": {
        "colab": {
          "base_uri": "https://localhost:8080/"
        },
        "id": "dxj_QGB-OCtb",
        "outputId": "c6b9543c-799b-4a38-9eab-7c4e2614700e"
      },
      "source": [
        "print(\"Welcome to SUPER MARKET\")\n"
      ],
      "execution_count": 29,
      "outputs": [
        {
          "output_type": "stream",
          "name": "stdout",
          "text": [
            "Welcome to SUPER MARKET\n"
          ]
        }
      ]
    },
    {
      "cell_type": "code",
      "metadata": {
        "colab": {
          "base_uri": "https://localhost:8080/"
        },
        "id": "8NPmvnMTPxJk",
        "outputId": "21dc03be-8cea-4144-a9a4-5b43c7a8436f"
      },
      "source": [
        "print(\"\\t||Unique ID\\t||\", \"Item Name\\t\\t\\t\", \"||\" ,\"Price\\t\", \"\\t\\t||Manufacture Date\", \"\\t||Available in stock\", \"\\t ||Offer\")\n",
        "print('-*'*75)\n",
        "for i in record:\n",
        "  print(\"\\t||\", i, \"\\t\\t||\", record[i][\"item\"],(28-len(record[i][\"item\"]))*\" \", \"||\", record[i][\"price\"], (18-len(record[i][\"date\"]))*\" \",\"\\t\\t||\", record[i][\"date\"], \"\\t\\t\",\"||\", record[i][\"inStock\"], \"\\t\\t\", \"||\", record[i][\"offer\"])"
      ],
      "execution_count": 30,
      "outputs": [
        {
          "output_type": "stream",
          "name": "stdout",
          "text": [
            "\t||Unique ID\t|| Item Name\t\t\t || Price\t \t\t||Manufacture Date \t||Available in stock \t ||Offer\n",
            "-*-*-*-*-*-*-*-*-*-*-*-*-*-*-*-*-*-*-*-*-*-*-*-*-*-*-*-*-*-*-*-*-*-*-*-*-*-*-*-*-*-*-*-*-*-*-*-*-*-*-*-*-*-*-*-*-*-*-*-*-*-*-*-*-*-*-*-*-*-*-*-*-*-*-*\n",
            "\t|| 1 \t\t|| Soap                          || 30          \t\t|| 03-08-2021 \t\t || True \t\t || 10\n",
            "\t|| 2 \t\t|| Maida                         || 90          \t\t|| 06-07-2021 \t\t || True \t\t || 0\n",
            "\t|| 3 \t\t|| Bread                         || 15          \t\t|| 01-09-2021 \t\t || True \t\t || 20\n",
            "\t|| 4 \t\t|| Milk                          || 30          \t\t|| 03-09-2021 \t\t || False \t\t || 18\n",
            "\t|| 5 \t\t|| Kitkat                        || 25          \t\t|| 29-08-2021 \t\t || True \t\t || 15\n",
            "\t|| 6 \t\t|| Maggi                         || 12          \t\t|| 20-08-2021 \t\t || True \t\t || 0\n",
            "\t|| 7 \t\t|| Butter                        || 50          \t\t|| 31-08-2021 \t\t || True \t\t || 10\n",
            "\t|| 8 \t\t|| Deodrant                      || 250          \t\t|| 15-08-2021 \t\t || True \t\t || 18\n",
            "\t|| 9 \t\t|| Harpic                        || 99          \t\t|| 05-08-2021 \t\t || True \t\t || 33\n",
            "\t|| 10 \t\t|| Papads                        || 20          \t\t|| 24-08-2021 \t\t || True \t\t || 0\n",
            "\t|| 11 \t\t|| Eggs                          || 60          \t\t|| 30-08-2021 \t\t || True \t\t || 0\n",
            "\t|| 12 \t\t|| Pizza                         || 180          \t\t|| 02-09-2021 \t\t || True \t\t || 20\n",
            "\t|| 13 \t\t|| Wet wipes                     || 185          \t\t|| 20-08-2021 \t\t || False \t\t || 20\n",
            "\t|| 14 \t\t|| Pepper                        || 80          \t\t|| 31-08-2021 \t\t || True \t\t || 0\n",
            "\t|| 15 \t\t|| Cookies                       || 30          \t\t|| 17-08-2021 \t\t || True \t\t || 5\n",
            "\t|| 16 \t\t|| Shampoo                       || 58          \t\t|| 07-08-2021 \t\t || True \t\t || 15\n",
            "\t|| 17 \t\t|| Tooth Paste                   || 55          \t\t|| 05-06-2021 \t\t || True \t\t || 23\n",
            "\t|| 18 \t\t|| Bowls Set                     || 600          \t\t|| 24-05-2021 \t\t || True \t\t || 30\n",
            "\t|| 19 \t\t|| Face cream                    || 320          \t\t|| 06-08-2021 \t\t || True \t\t || 15\n",
            "\t|| 20 \t\t|| Pedigree                      || 680          \t\t|| 08-04-2021 \t\t || False \t\t || 35\n",
            "\t|| 21 \t\t|| Cheese                        || 60          \t\t|| 01-09-2021 \t\t || True \t\t || 0\n",
            "\t|| 22 \t\t|| Cakes                         || 550          \t\t|| 29-08-2021 \t\t || True \t\t || 20\n",
            "\t|| 23 \t\t|| Lays                          || 20          \t\t|| 27-08-2021 \t\t || True \t\t || 0\n",
            "\t|| 24 \t\t|| Coffee Powder                 || 56          \t\t|| 24-07-2021 \t\t || True \t\t || 18\n",
            "\t|| 25 \t\t|| Razor                         || 30          \t\t|| 24-02-2021 \t\t || True \t\t || 0\n",
            "\t|| 26 \t\t|| Nuttela                       || 100          \t\t|| 25-08-2021 \t\t || True \t\t || 0\n",
            "\t|| 27 \t\t|| Mop                           || 360          \t\t|| 24-07-2021 \t\t || True \t\t || 0\n",
            "\t|| 28 \t\t|| Detergent                     || 89          \t\t|| 20-08-2021 \t\t || True \t\t || 13\n",
            "\t|| 29 \t\t|| Chop Stcikes                  || 49          \t\t|| 30-07-2021 \t\t || True \t\t || 15\n",
            "\t|| 30 \t\t|| Pressure Cooker               || 1200          \t\t|| 24-02-2021 \t\t || True \t\t || 20\n"
          ]
        }
      ]
    },
    {
      "cell_type": "code",
      "metadata": {
        "colab": {
          "base_uri": "https://localhost:8080/"
        },
        "id": "NgcHHoImPyDp",
        "outputId": "e6ce3390-91f0-4c05-f8cb-cf97f5a7953a"
      },
      "source": [
        "f = open(\"sales.json\",\"a\")\n",
        "will_buy = True\n",
        "print(\"Happy Shopping\")\n",
        "while will_buy:\n",
        "  n = int(input(\"Dear Customer, Please Enter Unique Id of the product that you want to buy: \"))\n",
        "  q = int(input(\"Dear Customer, Enter the quantity of the product: \"))\n",
        "  daily_count += q\n",
        "  f.write(str(record[n])+\"\\nTotal Price = \"+str(record[n][\"price\"]*q))\n",
        "  print(\"Dear Customer, Press 1 to continue else press any key to quit\")\n",
        "  n = input(\"Dear Customer, Enter your option: \")\n",
        "  will_buy = True if n == '1'  else False\n",
        "\n",
        "f.write(\"\\nProducts saled upto now = \"+str(daily_count)+\"\\n\")\n",
        "f.close()"
      ],
      "execution_count": 36,
      "outputs": [
        {
          "name": "stdout",
          "output_type": "stream",
          "text": [
            "Happy Shopping\n",
            "Dear Customer, Please Enter Unique Id of the product that you want to buy: 1\n",
            "Dear Customer, Enter the quantity of the product: 2\n",
            "Dear Customer, Press 1 to continue else press any key to quit\n",
            "Dear Customer, Enter your option: 0\n"
          ]
        }
      ]
    },
    {
      "cell_type": "code",
      "metadata": {
        "id": "cA2jBna-U4mM"
      },
      "source": [
        "f = open(\"sales.json\",\"r\")\n",
        "text = f.read()\n",
        "f.close()"
      ],
      "execution_count": 32,
      "outputs": []
    },
    {
      "cell_type": "code",
      "metadata": {
        "colab": {
          "base_uri": "https://localhost:8080/",
          "height": 102
        },
        "id": "yOsTt52PlRoI",
        "outputId": "8d951375-adeb-4a0e-db9d-b15d80771418"
      },
      "source": [
        "text"
      ],
      "execution_count": 33,
      "outputs": [
        {
          "output_type": "execute_result",
          "data": {
            "application/vnd.google.colaboratory.intrinsic+json": {
              "type": "string"
            },
            "text/plain": [
              "\"{'item': 'Lays', 'price': 20, 'date': '27-08-2021', 'inStock': True, 'offer': 0}\\nTotal Price = 60\\nProducts saled upto now = 3{'item': 'Maida', 'price': 90, 'date': '06-07-2021', 'inStock': True, 'offer': 0}\\nTotal Price = 0\\nProducts saled upto now = 0{'item': 'Bread', 'price': 15, 'date': '01-09-2021', 'inStock': True, 'offer': 20}\\nTotal Price = 0\\nProducts saled upto now = 0\\n\""
            ]
          },
          "metadata": {},
          "execution_count": 33
        }
      ]
    },
    {
      "cell_type": "code",
      "metadata": {
        "id": "cRJ5CcpFlasS"
      },
      "source": [
        ""
      ],
      "execution_count": 33,
      "outputs": []
    }
  ]
}